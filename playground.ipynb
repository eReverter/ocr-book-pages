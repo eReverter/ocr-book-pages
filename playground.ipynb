{
 "cells": [
  {
   "cell_type": "code",
   "execution_count": 1,
   "metadata": {},
   "outputs": [
    {
     "data": {
      "text/plain": [
       "array([[[133, 134, 124],\n",
       "        [104, 107,  98],\n",
       "        [ 90,  92,  86],\n",
       "        ...,\n",
       "        [143, 133, 133],\n",
       "        [148, 136, 136],\n",
       "        [137, 125, 125]],\n",
       "\n",
       "       [[132, 133, 123],\n",
       "        [112, 113, 104],\n",
       "        [ 93,  95,  89],\n",
       "        ...,\n",
       "        [142, 132, 132],\n",
       "        [145, 135, 135],\n",
       "        [138, 128, 128]],\n",
       "\n",
       "       [[133, 132, 122],\n",
       "        [121, 119, 111],\n",
       "        [ 98,  98,  92],\n",
       "        ...,\n",
       "        [132, 122, 122],\n",
       "        [144, 134, 134],\n",
       "        [145, 135, 135]],\n",
       "\n",
       "       ...,\n",
       "\n",
       "       [[134, 129, 126],\n",
       "        [136, 131, 128],\n",
       "        [137, 132, 129],\n",
       "        ...,\n",
       "        [152, 147, 144],\n",
       "        [156, 151, 148],\n",
       "        [152, 147, 144]],\n",
       "\n",
       "       [[143, 138, 135],\n",
       "        [140, 135, 132],\n",
       "        [140, 135, 132],\n",
       "        ...,\n",
       "        [153, 148, 145],\n",
       "        [163, 158, 155],\n",
       "        [164, 159, 156]],\n",
       "\n",
       "       [[145, 140, 137],\n",
       "        [139, 134, 131],\n",
       "        [140, 135, 132],\n",
       "        ...,\n",
       "        [153, 148, 145],\n",
       "        [164, 159, 156],\n",
       "        [164, 159, 156]]], dtype=uint8)"
      ]
     },
     "metadata": {},
     "output_type": "display_data"
    }
   ],
   "source": [
    "import numpy as np\n",
    "import cv2\n",
    "import matplotlib.pyplot as plt\n",
    "\n",
    "new = cv2.imread(\"/home/ereverter/projects/ocr/data/raw/IMG_20230604_135247.jpg\")\n",
    "plt.imshow(new)"
   ]
  },
  {
   "cell_type": "code",
   "execution_count": null,
   "metadata": {},
   "outputs": [],
   "source": [
    "#https://becominghuman.ai/how-to-automatically-deskew-straighten-a-text-image-using-opencv-a0c30aed83df\n",
    "def getSkewAngle(cvImage) -> float:\n",
    "    # Prep image, copy, convert to gray scale, blur, and threshold\n",
    "    newImage = cvImage.copy()\n",
    "    gray = cv2.cvtColor(newImage, cv2.COLOR_BGR2GRAY)\n",
    "    blur = cv2.GaussianBlur(gray, (9, 9), 0)\n",
    "    thresh = cv2.threshold(blur, 0, 255, cv2.THRESH_BINARY_INV + cv2.THRESH_OTSU)[1]\n",
    "\n",
    "    # Apply dilate to merge text into meaningful lines/paragraphs.\n",
    "    # Use larger kernel on X axis to merge characters into single line, cancelling out any spaces.\n",
    "    # But use smaller kernel on Y axis to separate between different blocks of text\n",
    "    kernel = cv2.getStructuringElement(cv2.MORPH_RECT, (30, 5))\n",
    "    dilate = cv2.dilate(thresh, kernel, iterations=2)\n",
    "\n",
    "    # Find all contours\n",
    "    contours, hierarchy = cv2.findContours(dilate, cv2.RETR_LIST, cv2.CHAIN_APPROX_SIMPLE)\n",
    "    contours = sorted(contours, key = cv2.contourArea, reverse = True)\n",
    "    for c in contours:\n",
    "        rect = cv2.boundingRect(c)\n",
    "        x,y,w,h = rect\n",
    "        cv2.rectangle(newImage,(x,y),(x+w,y+h),(0,255,0),2)\n",
    "\n",
    "    # Find largest contour and surround in min area box\n",
    "    largestContour = contours[0]\n",
    "    print (len(contours))\n",
    "    minAreaRect = cv2.minAreaRect(largestContour)\n",
    "    cv2.imwrite(\"temp/boxes.jpg\", newImage)\n",
    "    # Determine the angle. Convert it to the value that was originally used to obtain skewed image\n",
    "    angle = minAreaRect[-1]\n",
    "    if angle < -45:\n",
    "        angle = 90 + angle\n",
    "    return -1.0 * angle\n",
    "# Rotate the image around its center\n",
    "def rotateImage(cvImage, angle: float):\n",
    "    newImage = cvImage.copy()\n",
    "    (h, w) = newImage.shape[:2]\n",
    "    center = (w // 2, h // 2)\n",
    "    M = cv2.getRotationMatrix2D(center, angle, 1.0)\n",
    "    newImage = cv2.warpAffine(newImage, M, (w, h), flags=cv2.INTER_CUBIC, borderMode=cv2.BORDER_REPLICATE)\n",
    "    return newImage"
   ]
  },
  {
   "cell_type": "code",
   "execution_count": null,
   "metadata": {},
   "outputs": [],
   "source": [
    "# Deskew image\n",
    "def deskew(cvImage):\n",
    "    angle = getSkewAngle(cvImage)\n",
    "    return rotateImage(cvImage, -1.0 * angle)"
   ]
  },
  {
   "cell_type": "code",
   "execution_count": null,
   "metadata": {},
   "outputs": [],
   "source": [
    "fixed = deskew(new)\n",
    "cv2.imwrite(\"temp/rotated_fixed.jpg\", fixed)"
   ]
  },
  {
   "cell_type": "code",
   "execution_count": null,
   "metadata": {},
   "outputs": [],
   "source": [
    "display(\"temp/rotated_fixed.jpg\")\n"
   ]
  }
 ],
 "metadata": {
  "kernelspec": {
   "display_name": "ocr",
   "language": "python",
   "name": "python3"
  },
  "language_info": {
   "codemirror_mode": {
    "name": "ipython",
    "version": 3
   },
   "file_extension": ".py",
   "mimetype": "text/x-python",
   "name": "python",
   "nbconvert_exporter": "python",
   "pygments_lexer": "ipython3",
   "version": "3.10.12"
  },
  "orig_nbformat": 4
 },
 "nbformat": 4,
 "nbformat_minor": 2
}
